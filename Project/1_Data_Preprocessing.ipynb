{
 "cells": [
  {
   "cell_type": "markdown",
   "metadata": {},
   "source": [
    "# Sensor Reading"
   ]
  },
  {
   "cell_type": "markdown",
   "metadata": {},
   "source": [
    "## Objectives\n",
    "- Load and preprocess an automotive engine dataset.\n",
    "- Simulate timestamps with a 1-minute interval.\n",
    "- Create new time-based features (Hour, Day_of_week, Is_weekend).\n",
    "- Detect outliers in Engine rpm using the IQR method.\n",
    "- Analyze related sensor readings for detected outliers."
   ]
  },
  {
   "cell_type": "markdown",
   "metadata": {},
   "source": [
    "- Load and preprocess an automotive engine dataset."
   ]
  },
  {
   "cell_type": "code",
   "execution_count": 1,
   "metadata": {},
   "outputs": [],
   "source": [
    "# Loading Libraries\n",
    "import pandas as pd\n",
    "import numpy as np\n",
    "import matplotlib.pyplot as plt\n",
    "import seaborn as sns\n",
    "from datetime import timedelta\n",
    "from sklearn.model_selection import train_test_split\n",
    "from sklearn.ensemble import RandomForestClassifier\n",
    "from sklearn.metrics import classification_report, confusion_matrix\n",
    "\n",
    "# Loading Dataset\n",
    "df = pd.read_csv(r'C:\\Users\\hp\\OneDrive\\Desktop\\Data_Analyst\\Automotive_Vehicles_Engine\\Dataset\\engine_data.csv')"
   ]
  },
  {
   "cell_type": "code",
   "execution_count": null,
   "metadata": {},
   "outputs": [
    {
     "data": {
      "text/html": [
       "<div>\n",
       "<style scoped>\n",
       "    .dataframe tbody tr th:only-of-type {\n",
       "        vertical-align: middle;\n",
       "    }\n",
       "\n",
       "    .dataframe tbody tr th {\n",
       "        vertical-align: top;\n",
       "    }\n",
       "\n",
       "    .dataframe thead th {\n",
       "        text-align: right;\n",
       "    }\n",
       "</style>\n",
       "<table border=\"1\" class=\"dataframe\">\n",
       "  <thead>\n",
       "    <tr style=\"text-align: right;\">\n",
       "      <th></th>\n",
       "      <th>engine_rpm</th>\n",
       "      <th>lub_oil_pressure</th>\n",
       "      <th>fuel_pressure</th>\n",
       "      <th>coolant_pressure</th>\n",
       "      <th>lub_oil_temp</th>\n",
       "      <th>coolant_temp</th>\n",
       "      <th>engine_condition</th>\n",
       "    </tr>\n",
       "  </thead>\n",
       "  <tbody>\n",
       "    <tr>\n",
       "      <th>0</th>\n",
       "      <td>700.0</td>\n",
       "      <td>2.493592</td>\n",
       "      <td>11.790927</td>\n",
       "      <td>3.178981</td>\n",
       "      <td>84.144163</td>\n",
       "      <td>81.632187</td>\n",
       "      <td>1</td>\n",
       "    </tr>\n",
       "    <tr>\n",
       "      <th>1</th>\n",
       "      <td>876.0</td>\n",
       "      <td>2.941606</td>\n",
       "      <td>16.193866</td>\n",
       "      <td>2.464504</td>\n",
       "      <td>77.640934</td>\n",
       "      <td>82.445724</td>\n",
       "      <td>0</td>\n",
       "    </tr>\n",
       "    <tr>\n",
       "      <th>2</th>\n",
       "      <td>520.0</td>\n",
       "      <td>2.961746</td>\n",
       "      <td>6.553147</td>\n",
       "      <td>1.064347</td>\n",
       "      <td>77.752266</td>\n",
       "      <td>79.645777</td>\n",
       "      <td>1</td>\n",
       "    </tr>\n",
       "    <tr>\n",
       "      <th>3</th>\n",
       "      <td>473.0</td>\n",
       "      <td>3.707835</td>\n",
       "      <td>19.510172</td>\n",
       "      <td>3.727455</td>\n",
       "      <td>74.129907</td>\n",
       "      <td>71.774629</td>\n",
       "      <td>1</td>\n",
       "    </tr>\n",
       "    <tr>\n",
       "      <th>4</th>\n",
       "      <td>619.0</td>\n",
       "      <td>5.672919</td>\n",
       "      <td>15.738871</td>\n",
       "      <td>2.052251</td>\n",
       "      <td>78.396989</td>\n",
       "      <td>87.000225</td>\n",
       "      <td>0</td>\n",
       "    </tr>\n",
       "  </tbody>\n",
       "</table>\n",
       "</div>"
      ],
      "text/plain": [
       "   engine_rpm  lub_oil_pressure  fuel_pressure  coolant_pressure  \\\n",
       "0       700.0          2.493592      11.790927          3.178981   \n",
       "1       876.0          2.941606      16.193866          2.464504   \n",
       "2       520.0          2.961746       6.553147          1.064347   \n",
       "3       473.0          3.707835      19.510172          3.727455   \n",
       "4       619.0          5.672919      15.738871          2.052251   \n",
       "\n",
       "   lub_oil_temp  coolant_temp  engine_condition  \n",
       "0     84.144163     81.632187                 1  \n",
       "1     77.640934     82.445724                 0  \n",
       "2     77.752266     79.645777                 1  \n",
       "3     74.129907     71.774629                 1  \n",
       "4     78.396989     87.000225                 0  "
      ]
     },
     "execution_count": 3,
     "metadata": {},
     "output_type": "execute_result"
    }
   ],
   "source": [
    "# Standardize column names\n",
    "df.columns = [col.strip().lower().replace(\" \", \"_\") for col in df.columns]\n",
    "\n",
    "# Convert data types (if needed)\n",
    "df['engine_rpm'] = df['engine_rpm'].astype(float)\n",
    "\n",
    "df.head()"
   ]
  },
  {
   "cell_type": "markdown",
   "metadata": {},
   "source": [
    "- Feature Engineering"
   ]
  },
  {
   "cell_type": "code",
   "execution_count": 4,
   "metadata": {},
   "outputs": [],
   "source": [
    "df['temp_diff'] = df['coolant_temp'] - df['lub_oil_temp']\n",
    "\n",
    "df['pressure_ratio'] = df['lub_oil_pressure'] / df['fuel_pressure']\n"
   ]
  },
  {
   "cell_type": "markdown",
   "metadata": {},
   "source": [
    "- Simulating Timestamp"
   ]
  },
  {
   "cell_type": "code",
   "execution_count": null,
   "metadata": {},
   "outputs": [],
   "source": [
    "# Simulate a starting timestamp\n",
    "start_time = pd.Timestamp('2025-01-01 00:00:00')\n",
    "\n",
    "# Generate timestamps with a 1-minute interval\n",
    "df['Timestamp'] = [start_time + timedelta(minutes=i) for i in range(len(df))]\n",
    "df[\"Timestamp\"] = pd.to_datetime(df[\"Timestamp\"])\n"
   ]
  },
  {
   "cell_type": "markdown",
   "metadata": {},
   "source": [
    "- Create new time-based features"
   ]
  },
  {
   "cell_type": "code",
   "execution_count": 12,
   "metadata": {},
   "outputs": [
    {
     "name": "stdout",
     "output_type": "stream",
     "text": [
      "   engine_rpm  lub_oil_pressure  fuel_pressure  coolant_pressure  \\\n",
      "0       700.0          2.493592      11.790927          3.178981   \n",
      "1       876.0          2.941606      16.193866          2.464504   \n",
      "2       520.0          2.961746       6.553147          1.064347   \n",
      "3       473.0          3.707835      19.510172          3.727455   \n",
      "4       619.0          5.672919      15.738871          2.052251   \n",
      "\n",
      "   lub_oil_temp  coolant_temp  engine_condition  temp_diff  pressure_ratio  \\\n",
      "0     84.144163     81.632187                 1  -2.511976        0.211484   \n",
      "1     77.640934     82.445724                 0   4.804790        0.181649   \n",
      "2     77.752266     79.645777                 1   1.893511        0.451958   \n",
      "3     74.129907     71.774629                 1  -2.355278        0.190046   \n",
      "4     78.396989     87.000225                 0   8.603237        0.360440   \n",
      "\n",
      "            Timestamp  Hour  Day_of_week  Is_weekend  \n",
      "0 2025-01-01 00:00:00     0            2           0  \n",
      "1 2025-01-01 00:01:00     0            2           0  \n",
      "2 2025-01-01 00:02:00     0            2           0  \n",
      "3 2025-01-01 00:03:00     0            2           0  \n",
      "4 2025-01-01 00:04:00     0            2           0  \n"
     ]
    }
   ],
   "source": [
    "df['Hour'] = df['Timestamp'].dt.hour\n",
    "df['Day_of_week'] = df['Timestamp'].dt.dayofweek\n",
    "df['Is_weekend'] = df['Day_of_week'].apply(lambda x: 1 if x >= 5 else 0)\n",
    "print(df.head())"
   ]
  },
  {
   "cell_type": "markdown",
   "metadata": {},
   "source": [
    "- Detect outliers in Engine rpm using the IQR method."
   ]
  },
  {
   "cell_type": "code",
   "execution_count": 13,
   "metadata": {},
   "outputs": [],
   "source": [
    "# Calculate Q1, Q3, and IQR for 'engine_rpm'\n",
    "Q1 = df['engine_rpm'].quantile(0.25)\n",
    "Q3 = df['engine_rpm'].quantile(0.75)\n",
    "IQR = Q3 - Q1\n",
    "\n",
    "# Define outlier bounds\n",
    "lower_bound = Q1 - 1.5 * IQR\n",
    "upper_bound = Q3 + 1.5 * IQR"
   ]
  },
  {
   "cell_type": "code",
   "execution_count": 14,
   "metadata": {},
   "outputs": [],
   "source": [
    "outliers = df[df['engine_rpm'] > upper_bound]\n",
    "\n",
    "# Count and percentage of outliers\n",
    "num_outliers = len(outliers)\n",
    "percent_outliers = (num_outliers / len(df)) * 100"
   ]
  },
  {
   "cell_type": "markdown",
   "metadata": {},
   "source": [
    "- Analyze related sensor readings for detected outliers."
   ]
  },
  {
   "cell_type": "code",
   "execution_count": 15,
   "metadata": {},
   "outputs": [],
   "source": [
    "# Investigate corresponding values in other columns\n",
    "related_stats = outliers[['lub_oil_pressure', 'fuel_pressure', 'coolant_pressure', 'engine_condition']].describe()"
   ]
  },
  {
   "cell_type": "code",
   "execution_count": 26,
   "metadata": {},
   "outputs": [],
   "source": [
    "engine_data = df.to_csv('cleaned_engine_data.csv', index = False)\n"
   ]
  }
 ],
 "metadata": {
  "kernelspec": {
   "display_name": "python_course",
   "language": "python",
   "name": "python3"
  },
  "language_info": {
   "codemirror_mode": {
    "name": "ipython",
    "version": 3
   },
   "file_extension": ".py",
   "mimetype": "text/x-python",
   "name": "python",
   "nbconvert_exporter": "python",
   "pygments_lexer": "ipython3",
   "version": "3.11.9"
  }
 },
 "nbformat": 4,
 "nbformat_minor": 2
}
